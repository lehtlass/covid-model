{
 "cells": [
  {
   "cell_type": "code",
   "execution_count": 2,
   "metadata": {},
   "outputs": [],
   "source": [
    "# Config\n",
    "import os\n",
    "import numpy as np\n",
    "import pandas as pd\n",
    "import matplotlib as mpl\n",
    "import matplotlib.pyplot as plt\n",
    "#plt.style.use('seaborn-white')\n",
    "%matplotlib inline\n",
    "from scipy.stats import gamma, poisson\n",
    "import epyestim\n",
    "import epyestim.covid19 as covid19\n",
    "import seaborn as sns\n",
    "import matplotlib.dates as mdates\n",
    "from matplotlib.dates import DateFormatter\n",
    "sns.set(font_scale=1.5, style=\"whitegrid\")"
   ]
  },
  {
   "cell_type": "markdown",
   "metadata": {},
   "source": [
    "### Data"
   ]
  },
  {
   "cell_type": "code",
   "execution_count": 8,
   "metadata": {},
   "outputs": [
    {
     "name": "stdout",
     "output_type": "stream",
     "text": [
      "\\begin{tabular}{lllllr}\n",
      "\\toprule\n",
      "      DATE &       PROVINCE &    REGION & AGEGROUP & SEX &  CASES \\\\\n",
      "\\midrule\n",
      "2020-03-01 &  VlaamsBrabant &  Flanders &    40-49 &   F &      1 \\\\\n",
      "2020-03-01 &  VlaamsBrabant &  Flanders &    40-49 &   M &      1 \\\\\n",
      "2020-03-01 &  VlaamsBrabant &  Flanders &    50-59 &   M &      1 \\\\\n",
      "2020-03-01 &  VlaamsBrabant &  Flanders &    60-69 &   M &      1 \\\\\n",
      "2020-03-02 &      Antwerpen &  Flanders &    40-49 &   M &      1 \\\\\n",
      "2020-03-02 &  BrabantWallon &  Wallonia &    10-19 &   F &      1 \\\\\n",
      "2020-03-02 &  BrabantWallon &  Wallonia &    10-19 &   M &      1 \\\\\n",
      "2020-03-02 &       Brussels &  Brussels &    10-19 &   F &      1 \\\\\n",
      "2020-03-02 &       Brussels &  Brussels &    40-49 &   M &      1 \\\\\n",
      "2020-03-02 &       Brussels &  Brussels &    50-59 &   F &      1 \\\\\n",
      "\\bottomrule\n",
      "\\end{tabular}\n",
      "\n"
     ]
    }
   ],
   "source": [
    "print(pd.read_csv('data/COVID19BE.csv', parse_dates=['DATE']).iloc[12:22].to_latex(index=False))"
   ]
  },
  {
   "cell_type": "code",
   "execution_count": 27,
   "metadata": {},
   "outputs": [],
   "source": [
    "def make_df(region, start_date=None, end_date=None, series=True):\n",
    "    cases = pd.read_csv('data/COVID19BE.csv', parse_dates=['DATE'])\n",
    "    if start_date is not None:\n",
    "        mask = (cases['DATE'] > start_date) & (cases['DATE'] <= end_date)\n",
    "        cases = cases.loc[mask]\n",
    "    \n",
    "    if region == 'Belgium':\n",
    "        cases = cases.groupby('DATE').sum()\n",
    "    else:\n",
    "        cases = cases.loc[cases['REGION'] == region].groupby('DATE').sum()\n",
    "    if series:\n",
    "        cases = cases.squeeze()\n",
    "        cases.rename('Cases', inplace=True)\n",
    "    return cases"
   ]
  },
  {
   "cell_type": "code",
   "execution_count": 36,
   "metadata": {},
   "outputs": [],
   "source": [
    "def plotting(df, ld=None, save=False):\n",
    "    fig, ax = plt.subplots(1,1, figsize=(16, 6))\n",
    "    sns.lineplot(data=df, x=df.index, y=df.loc[:,'Q0.5'], color='red')\n",
    "    ax.fill_between(df.index, \n",
    "                    df['Q0.025'], \n",
    "                    df['Q0.975'],\n",
    "                    color='red',\n",
    "                     alpha=0.2)\n",
    "    ax.set_xlabel('Date')\n",
    "    ax.set_ylabel('R(t) with 95%-CI')\n",
    "    ax.set_ylim([0,3])\n",
    "    ax.axhline(y=1)\n",
    "    if 1 in ld:\n",
    "        ax.axvline(x='2020-03-13', linestyle='dashed', color='red', label='Lockdown 1')\n",
    "        ax.axvline(x='2020-05-18', linestyle='dashed', color='green', label='Reopening 1')\n",
    "    if 2 in ld:\n",
    "        ax.axvline(x='2020-10-16', linestyle='dashdot', color='red', label='Lockdown 2')\n",
    "        ax.axvline(x='2020-12-01', linestyle='dashdot', color='green', label='Reopening 2')\n",
    "    \n",
    "    #ax.axvline(x='2020-03-13', linestyle='dashed', color='grey', label='Lockdown 1')\n",
    "    #ax.axvline(x='2020-10-16', linestyle='dashdot', color='grey', label='Lockdown 2')\n",
    "    plt.legend(loc='upper right')\n",
    "    #date_form = DateFormatter(\"%d-%m\")\n",
    "    date_form = DateFormatter(\"%m-%Y\")\n",
    "    ax.xaxis.set_major_formatter(date_form)\n",
    "    ax.xaxis.set_major_locator(mdates.MonthLocator(interval=1))\n",
    "    #ax.set_title('Estimate of time-varying effective reproduction number for {}'.format(region))\n",
    "    if save:\n",
    "        plt.savefig('/Users/Lassi/desktop/thesis/latex/latex/figures/{}_ld{}_rt.png'.format(region.lower(), ld), bbox_inches='tight')\n",
    "    \n",
    "    plt.show()"
   ]
  },
  {
   "cell_type": "markdown",
   "metadata": {},
   "source": [
    "## Model"
   ]
  },
  {
   "cell_type": "markdown",
   "metadata": {},
   "source": [
    "### Defining the input distributions"
   ]
  },
  {
   "cell_type": "code",
   "execution_count": 20,
   "metadata": {},
   "outputs": [
    {
     "data": {
      "image/png": "[encoded data removed]",
      "text/plain": [
       "<Figure size 864x216 with 2 Axes>"
      ]
     },
     "metadata": {},
     "output_type": "display_data"
    }
   ],
   "source": [
    "si_distrb = covid19.generate_standard_si_distribution()\n",
    "delay_distrb = covid19.generate_standard_infection_to_reporting_distribution()\n",
    "\n",
    "#fig = plt.figure(figsize=(10, 5))\n",
    "#plt.bar(range(len(delay_distrb)), delay_distrb, width=1)\n",
    "#plt.xlabel(\"Days\")\n",
    "#plt.show()\n",
    "\n",
    "fig, axs = plt.subplots(1, 2, figsize=(12,3))\n",
    "\n",
    "axs[0].bar(range(len(si_distrb)), si_distrb, width=1)\n",
    "axs[1].bar(range(len(delay_distrb[0:75])), delay_distrb[0:75], width=1)\n",
    "\n",
    "axs[0].set_title('Default serial interval distribution')\n",
    "axs[1].set_title('Default infection-to-reporting delay distribution')\n",
    "#axs[0].set_title('A')\n",
    "#axs[1].set_title('B')\n",
    "plt.show()"
   ]
  },
  {
   "cell_type": "markdown",
   "metadata": {},
   "source": [
    "### Run the model"
   ]
  },
  {
   "cell_type": "code",
   "execution_count": 47,
   "metadata": {},
   "outputs": [],
   "source": [
    "# Run modeling -> dataframe\n",
    "def run_model(ld=None, save=False):\n",
    "    bel_cases = make_df(region, start_date, end_date)\n",
    "    bel_rt = covid19.r_covid(bel_cases, smoothing_window=window)\n",
    "    return bel_rt\n",
    "    #plotting(bel_rt, ld, save)"
   ]
  },
  {
   "cell_type": "code",
   "execution_count": 52,
   "metadata": {},
   "outputs": [],
   "source": [
    "regions = ['Flanders', 'Wallonia']\n",
    "\n",
    "all_res = []\n",
    "\n",
    "for region in regions:\n",
    "    df = make_df(region)\n",
    "    res = covid19.r_covid(df, smoothing_window=window)\n",
    "    all_res.append(res['R_mean'])"
   ]
  }
 ],
 "metadata": {
  "kernelspec": {
   "display_name": "Python 3",
   "language": "python",
   "name": "python3"
  },
  "language_info": {
   "codemirror_mode": {
    "name": "ipython",
    "version": 3
   },
   "file_extension": ".py",
   "mimetype": "text/x-python",
   "name": "python",
   "nbconvert_exporter": "python",
   "pygments_lexer": "ipython3",
   "version": "3.8.5"
  }
 },
 "nbformat": 4,
 "nbformat_minor": 4
}
